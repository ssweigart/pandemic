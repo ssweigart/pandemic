{
 "cells": [
  {
   "cell_type": "markdown",
   "metadata": {},
   "source": [
    "## Load relevant libraries"
   ]
  },
  {
   "cell_type": "code",
   "execution_count": 190,
   "metadata": {},
   "outputs": [],
   "source": [
    "from datetime import date\n",
    "import pandas as pd\n",
    "import csv, os\n",
    "from IPython.display import display\n",
    "import ipywidgets as widgets\n"
   ]
  },
  {
   "cell_type": "markdown",
   "metadata": {},
   "source": [
    "## Functions that need to be run"
   ]
  },
  {
   "cell_type": "code",
   "execution_count": 214,
   "metadata": {},
   "outputs": [],
   "source": [
    "## template builder if there it is a new game starting that creates an empty file\n",
    "# STRING -> NONE\n",
    "# file name -> outputs a file in the file name\n",
    "def build_template(filename):\n",
    "    with open(filename, 'w',newline= '') as csvfile:\n",
    "        rwwriter = csv.writer(csvfile, delimiter = ' ')\n",
    "        rwwriter.writerow(['Round', 'PandemicNum','Pandemic','City','Added'])\n",
    "    csvfile.close()"
   ]
  },
  {
   "cell_type": "code",
   "execution_count": 215,
   "metadata": {},
   "outputs": [],
   "source": [
    "## updates the lists with the things that have happened from a previous file\n",
    "# LIST, DF -> LIST, LIST, LIST\n",
    "# list of cities, trial data frame, -> revealed deck, known deck, remains of starting deck\n",
    "def catchup(city, trial_df):\n",
    "    # empty decks which will be filled later\n",
    "    revealed = [];\n",
    "    known = [];\n",
    "\n",
    "    for index, row in trial_df.iterrows():\n",
    "        if row.Pandemic == 1: # if its a pandemics add the 'bottom card' and remove the ones from known and put them into the revealed pile\n",
    "            revealed.append(row.City)\n",
    "            city.pop(city.index(row.City))\n",
    "            known.insert(0,revealed)\n",
    "            revealed = [];\n",
    "            \n",
    "        ## if the known deck and reveal deck are empty pull from the cities list and put them in the revealed deck\n",
    "        elif not known:\n",
    "            revealed.append(row.City)\n",
    "            city.pop(city.index(row.City))\n",
    "            \n",
    "        # there are known cards in the known deck pull the the first known list\n",
    "        elif known:\n",
    "            revealed.append(row.City)\n",
    "            known[0].pop(known[0].index(row.City))\n",
    "            if not known[0]: # remove the first list if its empty\n",
    "                known.pop(0)\n",
    "    pandemicNum = trial_df[len(trial_df)].PandemicNum\n",
    "    roundNum = trial_df[len(trial_df)].Round\n",
    "    return(revealed, known, city, pandemicNum)\n",
    "    "
   ]
  },
  {
   "cell_type": "code",
   "execution_count": null,
   "metadata": {},
   "outputs": [],
   "source": [
    "## complete end of games mechanisms\n",
    "#def EndOfGame():\n",
    "    "
   ]
  },
  {
   "cell_type": "markdown",
   "metadata": {},
   "source": [
    "## Start by generating game files "
   ]
  },
  {
   "cell_type": "code",
   "execution_count": 217,
   "metadata": {},
   "outputs": [
    {
     "name": "stdin",
     "output_type": "stream",
     "text": [
      "Are you starting a new game? Yes=1 No=0:   0\n",
      "What date was your game? MMDDYYYY format:   022025\n",
      "What number month are you on?: 3\n",
      "Is this your second attempt at the month? Yes=1 No=0:   0\n"
     ]
    }
   ],
   "source": [
    "# determine if its a restarted game or starting an original game\n",
    "gamestatus = input('Are you starting a new game? Yes=1 No=0:  ')\n",
    "\n",
    "## where the game_logs are stored\n",
    "logdir = 'game_logs'\n",
    "citydir = 'city_logs'\n",
    "\n",
    "if gamestatus == '0':\n",
    "    ## get relevant file name information\n",
    "    filedate = input('What date was your game? MMDDYYYY format:  ')\n",
    "    month = input('What number month are you on?:')\n",
    "    retry = input('Is this your second attempt at the month? Yes=1 No=0:  ')\n",
    "    if retry == '1':\n",
    "        month += '_2'\n",
    "    filename = os.path.join(logdir,'PLgame_' + filedate + '_' + month + \".csv\")#the saved file name\n",
    "    ####\n",
    "elif gamestatus == '1':\n",
    "    ## find out what month this is and what attempt it is:\n",
    "    month = input('What number month are you on?:')\n",
    "    retry = input('Is this your second attempt at the month? Yes=1 No=0:  ')\n",
    "    if retry == '1':\n",
    "        month += '_2' \n",
    "    ## get the date\n",
    "    today = date.today()\n",
    "    filedate = today.strftime(\"%m%d%y\")\n",
    "    filename = os.path.join(logdir,'PLgame_' + filedate + '_' + month + \".csv\")#the saved file name\n",
    "    build_template(filename)\n",
    "else:\n",
    "    print('Oh no! I do not understand that response. Restart please!')\n",
    "# start game file\n",
    "\n"
   ]
  },
  {
   "cell_type": "markdown",
   "metadata": {},
   "source": [
    "## load data files and set up relevant information"
   ]
  },
  {
   "cell_type": "code",
   "execution_count": 277,
   "metadata": {},
   "outputs": [],
   "source": [
    "## load the trial handler into a pandas structure\n",
    "trial_df = pd.read_csv(filename, delimiter = ' ')\n",
    "\n",
    "## gather all the countries to be included \n",
    "cities_df = pd.read_csv(os.path.join(citydir,'cities_current.csv'))\n",
    "\n",
    "## make a list of countries\n",
    "starting_cities = []\n",
    "for x,y in zip(cities_df['Cities'], cities_df['Num_of_cards']):\n",
    "        for z in range(y):\n",
    "            starting_cities.append(x)\n",
    "\n",
    "if trial_df.size:\n",
    "    revealed, known, city, pandemicNum = catchup(starting_cities, trial_df)\n",
    "else:\n",
    "    revealed = []\n",
    "    known = []\n",
    "    city = starting_cities[:]\n",
    "    pandemicNum = 0\n",
    "    roundNum = 0"
   ]
  },
  {
   "cell_type": "code",
   "execution_count": null,
   "metadata": {},
   "outputs": [],
   "source": []
  },
  {
   "cell_type": "code",
   "execution_count": 279,
   "metadata": {},
   "outputs": [
    {
     "name": "stdin",
     "output_type": "stream",
     "text": [
      "Game over? Yes[1], No[0]: 1\n"
     ]
    }
   ],
   "source": [
    "roundNum = 0\n",
    "pandemicflip = [2,2,2,3,3,4,4]\n",
    "\n",
    "for x in range(20):\n",
    "    # start with added countries\n",
    "    gameover = int(input('Game over? Yes[1], No[0]:'))\n",
    "    if gameover:\n",
    "        trial_df.to_csv(filename, index=False) \n",
    "        #EndOfGame\n",
    "        break\n",
    "    if roundNum == 0:\n",
    "        # there are 9 starting cities\n",
    "        for x in range(6):\n",
    "            flippedcity = input('New city ' + str(len(revealed)+ 1)) # ask what the country is \n",
    "            # update revealed and city lists \n",
    "            revealed.append(flippedcity)\n",
    "            city.pop(city.index(flippedcity))\n",
    "            pandemichuh = 0 # you can't start on a pandemic\n",
    "            added = 1\n",
    "            trial_df.loc[len(trial_df)] = [roundNum, pandemicNum,  pandemichuh, flippedcity,  added]\n",
    "            trial_df.to_csv(filename, index=False) \n",
    "    else:        \n",
    "        # start by asking if the round is an pandemic \n",
    "        pandemichuh = int(input('Pandemic? Yes[1], No[0]:'))\n",
    "        while pandemichuh:\n",
    "            flippedcity = input('What is the bottom card?:') # determine the bottom card\n",
    "            # add to the revealed list, remove from the city list, then move the revealed list to the top of the known list\n",
    "            known.insert(0,revealed)\n",
    "            revealed.append(newadded) \n",
    "            city.pop(city.index(newadded))\n",
    "            \n",
    "            revealed = []\n",
    "            pandemicNum += 1 # increment the number of pandemics\n",
    "            trial_df.loc[len(trial_df)] = [roundNum, pandemicNum,  pandemichuh, flippedcity,  added]\n",
    "            trial_df.to_csv(filename, index=False) \n",
    "            pandemichuh = int(input('Pandemic? Yes[1], No[0]:'))\n",
    "        # as for each card needed to be flipped this turn\n",
    "        for cardsRevealed in range(pandemicflip[pandemicNum]):\n",
    "            flippedcity = input('What city is pulled? '+ str(pandemicflip[pandemicNum]- cardsRevealed) + ' left: ')\n",
    "            if not known:\n",
    "                revealed.append(flippedcity)\n",
    "                city.pop(city.index(flippedcity))\n",
    "                added = 1\n",
    "            \n",
    "            # there are known cards in the known deck pull the the first known list\n",
    "            elif known:\n",
    "                revealed.append(flippedcity)\n",
    "                known[0].pop(known[0].index(flippedcity))\n",
    "                added = 0\n",
    "                if not known[0]: # remove the first list if its empty\n",
    "                    known.pop(0)\n",
    "            trial_df.loc[len(trial_df)] = [roundNum, pandemicNum,  pandemichuh, flippedcity,  added]\n",
    "            trial_df.to_csv(filename, index=False) \n",
    "    roundNum += 1 # there is more than one row per round so increment appropriately\n",
    "        \n",
    "    \n",
    "    "
   ]
  },
  {
   "cell_type": "code",
   "execution_count": 280,
   "metadata": {},
   "outputs": [
    {
     "data": {
      "text/html": [
       "<div>\n",
       "<style scoped>\n",
       "    .dataframe tbody tr th:only-of-type {\n",
       "        vertical-align: middle;\n",
       "    }\n",
       "\n",
       "    .dataframe tbody tr th {\n",
       "        vertical-align: top;\n",
       "    }\n",
       "\n",
       "    .dataframe thead th {\n",
       "        text-align: right;\n",
       "    }\n",
       "</style>\n",
       "<table border=\"1\" class=\"dataframe\">\n",
       "  <thead>\n",
       "    <tr style=\"text-align: right;\">\n",
       "      <th></th>\n",
       "      <th>Round</th>\n",
       "      <th>PandemicNum</th>\n",
       "      <th>Pandemic</th>\n",
       "      <th>City</th>\n",
       "      <th>Added</th>\n",
       "    </tr>\n",
       "  </thead>\n",
       "  <tbody>\n",
       "    <tr>\n",
       "      <th>0</th>\n",
       "      <td>0</td>\n",
       "      <td>0</td>\n",
       "      <td>0</td>\n",
       "      <td>New York</td>\n",
       "      <td>1</td>\n",
       "    </tr>\n",
       "    <tr>\n",
       "      <th>1</th>\n",
       "      <td>0</td>\n",
       "      <td>0</td>\n",
       "      <td>0</td>\n",
       "      <td>Sao Paulo</td>\n",
       "      <td>1</td>\n",
       "    </tr>\n",
       "    <tr>\n",
       "      <th>2</th>\n",
       "      <td>0</td>\n",
       "      <td>0</td>\n",
       "      <td>0</td>\n",
       "      <td>Tripoli</td>\n",
       "      <td>1</td>\n",
       "    </tr>\n",
       "    <tr>\n",
       "      <th>3</th>\n",
       "      <td>0</td>\n",
       "      <td>0</td>\n",
       "      <td>0</td>\n",
       "      <td>London</td>\n",
       "      <td>1</td>\n",
       "    </tr>\n",
       "    <tr>\n",
       "      <th>4</th>\n",
       "      <td>0</td>\n",
       "      <td>0</td>\n",
       "      <td>0</td>\n",
       "      <td>Sao Paulo</td>\n",
       "      <td>1</td>\n",
       "    </tr>\n",
       "    <tr>\n",
       "      <th>5</th>\n",
       "      <td>0</td>\n",
       "      <td>0</td>\n",
       "      <td>0</td>\n",
       "      <td>New York</td>\n",
       "      <td>1</td>\n",
       "    </tr>\n",
       "    <tr>\n",
       "      <th>6</th>\n",
       "      <td>1</td>\n",
       "      <td>0</td>\n",
       "      <td>0</td>\n",
       "      <td>Denver</td>\n",
       "      <td>1</td>\n",
       "    </tr>\n",
       "    <tr>\n",
       "      <th>7</th>\n",
       "      <td>1</td>\n",
       "      <td>0</td>\n",
       "      <td>0</td>\n",
       "      <td>New York</td>\n",
       "      <td>1</td>\n",
       "    </tr>\n",
       "    <tr>\n",
       "      <th>8</th>\n",
       "      <td>2</td>\n",
       "      <td>1</td>\n",
       "      <td>1</td>\n",
       "      <td>New York</td>\n",
       "      <td>1</td>\n",
       "    </tr>\n",
       "    <tr>\n",
       "      <th>9</th>\n",
       "      <td>2</td>\n",
       "      <td>2</td>\n",
       "      <td>1</td>\n",
       "      <td>New York</td>\n",
       "      <td>1</td>\n",
       "    </tr>\n",
       "    <tr>\n",
       "      <th>10</th>\n",
       "      <td>2</td>\n",
       "      <td>2</td>\n",
       "      <td>0</td>\n",
       "      <td>London</td>\n",
       "      <td>0</td>\n",
       "    </tr>\n",
       "    <tr>\n",
       "      <th>11</th>\n",
       "      <td>2</td>\n",
       "      <td>2</td>\n",
       "      <td>0</td>\n",
       "      <td>New York</td>\n",
       "      <td>0</td>\n",
       "    </tr>\n",
       "  </tbody>\n",
       "</table>\n",
       "</div>"
      ],
      "text/plain": [
       "   Round PandemicNum Pandemic       City Added\n",
       "0      0           0        0   New York     1\n",
       "1      0           0        0  Sao Paulo     1\n",
       "2      0           0        0    Tripoli     1\n",
       "3      0           0        0     London     1\n",
       "4      0           0        0  Sao Paulo     1\n",
       "5      0           0        0   New York     1\n",
       "6      1           0        0     Denver     1\n",
       "7      1           0        0   New York     1\n",
       "8      2           1        1   New York     1\n",
       "9      2           2        1   New York     1\n",
       "10     2           2        0     London     0\n",
       "11     2           2        0   New York     0"
      ]
     },
     "execution_count": 280,
     "metadata": {},
     "output_type": "execute_result"
    }
   ],
   "source": [
    "trial_df"
   ]
  },
  {
   "cell_type": "code",
   "execution_count": null,
   "metadata": {},
   "outputs": [],
   "source": []
  },
  {
   "cell_type": "code",
   "execution_count": null,
   "metadata": {},
   "outputs": [],
   "source": []
  },
  {
   "cell_type": "code",
   "execution_count": null,
   "metadata": {},
   "outputs": [],
   "source": []
  },
  {
   "cell_type": "code",
   "execution_count": null,
   "metadata": {},
   "outputs": [],
   "source": []
  },
  {
   "cell_type": "code",
   "execution_count": null,
   "metadata": {},
   "outputs": [],
   "source": [
    "\n"
   ]
  },
  {
   "cell_type": "code",
   "execution_count": null,
   "metadata": {},
   "outputs": [],
   "source": []
  },
  {
   "cell_type": "code",
   "execution_count": null,
   "metadata": {},
   "outputs": [],
   "source": []
  },
  {
   "cell_type": "code",
   "execution_count": null,
   "metadata": {},
   "outputs": [],
   "source": []
  },
  {
   "cell_type": "code",
   "execution_count": null,
   "metadata": {},
   "outputs": [],
   "source": [
    "cities = ['New York','DC','Sao Paulo', 'New York']\n",
    "\n",
    "clicked = [];\n",
    "i = 0;\n",
    "\n",
    "switch = [widgets.Button(description=name) for name in cities]\n",
    "\n",
    "combined = widgets.HBox([items for items in switch])\n",
    "out =widgets.Output()\n",
    "\n",
    "def upon_clicked(btn):\n",
    "    #print(f'You Just clicked {btn.description}.', end='\\x1b\\r')\n",
    "    #for n in range(len(cities)):\n",
    "    #    switch[n].style.button_color = 'gray'\n",
    "    btn.style.button_color = 'pink'\n",
    "    return(btn.description)\n",
    "    \n",
    "\n",
    "for n in range(len(cities)):\n",
    "    switch[n].on_click(upon_clicked)\n",
    "\n",
    "display(combined)"
   ]
  }
 ],
 "metadata": {
  "kernelspec": {
   "display_name": "Python 3",
   "language": "python",
   "name": "python3"
  },
  "language_info": {
   "codemirror_mode": {
    "name": "ipython",
    "version": 3
   },
   "file_extension": ".py",
   "mimetype": "text/x-python",
   "name": "python",
   "nbconvert_exporter": "python",
   "pygments_lexer": "ipython3",
   "version": "3.8.3"
  }
 },
 "nbformat": 4,
 "nbformat_minor": 4
}
