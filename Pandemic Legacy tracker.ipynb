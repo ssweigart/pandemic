{
 "cells": [
  {
   "cell_type": "markdown",
   "metadata": {},
   "source": [
    "## Load relevant libraries"
   ]
  },
  {
   "cell_type": "code",
   "execution_count": 31,
   "metadata": {},
   "outputs": [],
   "source": [
    "from datetime import date\n",
    "import pandas as pd\n",
    "import csv, os\n",
    "from IPython.display import display\n",
    "import ipywidgets as widgets\n"
   ]
  },
  {
   "cell_type": "markdown",
   "metadata": {},
   "source": [
    "## Functions that need to be run"
   ]
  },
  {
   "cell_type": "code",
   "execution_count": 32,
   "metadata": {},
   "outputs": [],
   "source": [
    "## template builder if there it is a new game starting that creates an empty file\n",
    "# STRING -> NONE\n",
    "# file name -> outputs a file in the file name\n",
    "def build_template(filename):\n",
    "    with open(filename, 'w',newline= '') as csvfile:\n",
    "        rwwriter = csv.writer(csvfile, delimiter = ' ')\n",
    "        rwwriter.writerow(['Round', 'PandemicNum','Pandemic','City','Added'])\n",
    "    csvfile.close()"
   ]
  },
  {
   "cell_type": "code",
   "execution_count": 33,
   "metadata": {},
   "outputs": [],
   "source": [
    "## updates the lists with the things that have happened from a previous file\n",
    "# LIST, DF -> LIST, LIST, LIST\n",
    "# list of cities, trial data frame, -> revealed deck, known deck, remains of starting deck\n",
    "def catchup(city, trial_df):\n",
    "    # empty decks which will be filled later\n",
    "    revealed = [];\n",
    "    known = [];\n",
    "\n",
    "    for index, row in trial_df.iterrows():\n",
    "        if row.Pandemic == 1: # if its a pandemics add the 'bottom card' and remove the ones from known and put them into the revealed pile\n",
    "            revealed.append(row.City)\n",
    "            city.pop(city.index(row.City))\n",
    "            known.insert(0,revealed)\n",
    "            revealed = [];\n",
    "            \n",
    "        ## if the known deck and reveal deck are empty pull from the cities list and put them in the revealed deck\n",
    "        elif not known:\n",
    "            revealed.append(row.City)\n",
    "            city.pop(city.index(row.City))\n",
    "            \n",
    "        # there are known cards in the known deck pull the the first known list\n",
    "        elif known:\n",
    "            revealed.append(row.City)\n",
    "            known[0].pop(known[0].index(row.City))\n",
    "            if not known[0]: # remove the first list if its empty\n",
    "                known.pop(0)\n",
    "    pandemicNum = trial_df[len(trial_df)].PandemicNum\n",
    "    roundNum = trial_df[len(trial_df)].Round\n",
    "    return(revealed, known, city, pandemicNum)\n",
    "    "
   ]
  },
  {
   "cell_type": "code",
   "execution_count": 13,
   "metadata": {},
   "outputs": [],
   "source": [
    "## complete end of games mechanisms\n",
    "#def EndOfGame():\n",
    "    "
   ]
  },
  {
   "cell_type": "markdown",
   "metadata": {},
   "source": [
    "## Start by generating game files "
   ]
  },
  {
   "cell_type": "code",
   "execution_count": 19,
   "metadata": {},
   "outputs": [
    {
     "name": "stdout",
     "output_type": "stream",
     "text": [
      "Are you starting a new game? Yes=1 No=0:  1\n",
      "What number month are you on?:2\n",
      "Is this your second attempt at the month? Yes=1 No=0:  0\n"
     ]
    }
   ],
   "source": [
    "# determine if its a restarted game or starting an original game\n",
    "gamestatus = input('Are you starting a new game? Yes=1 No=0:  ')\n",
    "\n",
    "## where the game_logs are stored\n",
    "logdir = 'game_logs'\n",
    "citydir = 'city_logs'\n",
    "\n",
    "if gamestatus == '0':\n",
    "    ## get relevant file name information\n",
    "    filedate = input('What date was your game? MMDDYY format:  ')\n",
    "    month = input('What number month are you on?:')\n",
    "    retry = input('Is this your second attempt at the month? Yes=1 No=0:  ')\n",
    "    if retry == '1':\n",
    "        month += '_2'\n",
    "    filename = os.path.join(logdir,'PLgame_' + filedate + '_' + month + \".csv\")#the saved file name\n",
    "    ####\n",
    "elif gamestatus == '1':\n",
    "    ## find out what month this is and what attempt it is:\n",
    "    month = input('What number month are you on?:')\n",
    "    retry = input('Is this your second attempt at the month? Yes=1 No=0:  ')\n",
    "    if retry == '1':\n",
    "        month += '_2' \n",
    "    ## get the date\n",
    "    today = date.today()\n",
    "    filedate = today.strftime(\"%m%d%y\")\n",
    "    filename = os.path.join(logdir,'PLgame_' + filedate + '_' + month + \".csv\")#the saved file name\n",
    "    build_template(filename)\n",
    "else:\n",
    "    print('Oh no! I do not understand that response. Restart please!')\n",
    "# start game file\n",
    "\n"
   ]
  },
  {
   "cell_type": "markdown",
   "metadata": {},
   "source": [
    "## load data files and set up relevant information"
   ]
  },
  {
   "cell_type": "code",
   "execution_count": 20,
   "metadata": {},
   "outputs": [],
   "source": [
    "## load the trial handler into a pandas structure\n",
    "trial_df = pd.read_csv(filename, delimiter = ' ')\n",
    "\n",
    "## gather all the countries to be included \n",
    "cities_df = pd.read_csv(os.path.join(citydir,'cities_current.csv'))\n",
    "\n",
    "## make a list of countries\n",
    "starting_cities = []\n",
    "for x,y in zip(cities_df['Cities'], cities_df['Num_of_cards']):\n",
    "        for z in range(y):\n",
    "            starting_cities.append(x)\n",
    "\n",
    "if trial_df.size:\n",
    "    revealed, known, city, pandemicNum = catchup(starting_cities, trial_df)\n",
    "else:\n",
    "    revealed = []\n",
    "    known = []\n",
    "    city = starting_cities[:]\n",
    "    pandemicNum = 0\n",
    "    roundNum = 0"
   ]
  },
  {
   "cell_type": "code",
   "execution_count": null,
   "metadata": {},
   "outputs": [],
   "source": []
  },
  {
   "cell_type": "code",
   "execution_count": 26,
   "metadata": {},
   "outputs": [
    {
     "name": "stdout",
     "output_type": "stream",
     "text": [
      "Game over? Yes[1], No[0]:0\n",
      "New city 1Chicago\n",
      "New city 2New York\n",
      "New city 3London\n",
      "New city 4Lagos\n",
      "New city 5Sao Paulo\n",
      "New city 6New York\n"
     ]
    },
    {
     "ename": "ValueError",
     "evalue": "'New York' is not in list",
     "output_type": "error",
     "traceback": [
      "\u001b[0;31m---------------------------------------------------------------------------\u001b[0m",
      "\u001b[0;31mValueError\u001b[0m                                Traceback (most recent call last)",
      "\u001b[0;32m<ipython-input-26-61239290d97c>\u001b[0m in \u001b[0;36m<module>\u001b[0;34m\u001b[0m\n\u001b[1;32m     15\u001b[0m             \u001b[0;31m# update revealed and city lists\u001b[0m\u001b[0;34m\u001b[0m\u001b[0;34m\u001b[0m\u001b[0;34m\u001b[0m\u001b[0m\n\u001b[1;32m     16\u001b[0m             \u001b[0mrevealed\u001b[0m\u001b[0;34m.\u001b[0m\u001b[0mappend\u001b[0m\u001b[0;34m(\u001b[0m\u001b[0mflippedcity\u001b[0m\u001b[0;34m)\u001b[0m\u001b[0;34m\u001b[0m\u001b[0;34m\u001b[0m\u001b[0m\n\u001b[0;32m---> 17\u001b[0;31m             \u001b[0mcity\u001b[0m\u001b[0;34m.\u001b[0m\u001b[0mpop\u001b[0m\u001b[0;34m(\u001b[0m\u001b[0mcity\u001b[0m\u001b[0;34m.\u001b[0m\u001b[0mindex\u001b[0m\u001b[0;34m(\u001b[0m\u001b[0mflippedcity\u001b[0m\u001b[0;34m)\u001b[0m\u001b[0;34m)\u001b[0m\u001b[0;34m\u001b[0m\u001b[0;34m\u001b[0m\u001b[0m\n\u001b[0m\u001b[1;32m     18\u001b[0m             \u001b[0mpandemichuh\u001b[0m \u001b[0;34m=\u001b[0m \u001b[0;36m0\u001b[0m \u001b[0;31m# you can't start on a pandemic\u001b[0m\u001b[0;34m\u001b[0m\u001b[0;34m\u001b[0m\u001b[0m\n\u001b[1;32m     19\u001b[0m             \u001b[0madded\u001b[0m \u001b[0;34m=\u001b[0m \u001b[0;36m1\u001b[0m\u001b[0;34m\u001b[0m\u001b[0;34m\u001b[0m\u001b[0m\n",
      "\u001b[0;31mValueError\u001b[0m: 'New York' is not in list"
     ]
    }
   ],
   "source": [
    "roundNum = 0\n",
    "pandemicflip = [2,2,2,3,3,4,4]\n",
    "\n",
    "for x in range(20):\n",
    "    # start with added countries\n",
    "    gameover = int(input('Game over? Yes[1], No[0]:'))\n",
    "    if gameover:\n",
    "        trial_df.to_csv(filename, index=False) \n",
    "        #EndOfGame\n",
    "        break\n",
    "    if roundNum == 0:\n",
    "        # there are 9 starting cities\n",
    "        for x in range(6):\n",
    "            flippedcity = input('New city ' + str(len(revealed)+ 1)) # ask what the country is \n",
    "            # update revealed and city lists \n",
    "            revealed.append(flippedcity)\n",
    "            city.pop(city.index(flippedcity))\n",
    "            pandemichuh = 0 # you can't start on a pandemic\n",
    "            added = 1\n",
    "            trial_df.loc[len(trial_df)] = [roundNum, pandemicNum,  pandemichuh, flippedcity,  added]\n",
    "            trial_df.to_csv(filename, index=False) \n",
    "    else:        \n",
    "        # start by asking if the round is an pandemic \n",
    "        pandemichuh = int(input('Pandemic? Yes[1], No[0]:'))\n",
    "        while pandemichuh:\n",
    "            flippedcity = input('What is the bottom card?:') # determine the bottom card\n",
    "            # add to the revealed list, remove from the city list, then move the revealed list to the top of the known list\n",
    "            known.insert(0,revealed)\n",
    "            revealed.append(flippedcity) \n",
    "            city.pop(city.index(flippedcity))\n",
    "            \n",
    "            revealed = []\n",
    "            pandemicNum += 1 # increment the number of pandemics\n",
    "            trial_df.loc[len(trial_df)] = [roundNum, pandemicNum,  pandemichuh, flippedcity,  added]\n",
    "            trial_df.to_csv(filename, index=False) \n",
    "            pandemichuh = int(input('Pandemic? Yes[1], No[0]:'))\n",
    "        # as for each card needed to be flipped this turn\n",
    "        for cardsRevealed in range(pandemicflip[pandemicNum]):\n",
    "            flippedcity = input('What city is pulled? '+ str(pandemicflip[pandemicNum]- cardsRevealed) + ' left: ')\n",
    "            if not known:\n",
    "                revealed.append(flippedcity)\n",
    "                city.pop(city.index(flippedcity))\n",
    "                added = 1\n",
    "            \n",
    "            # there are known cards in the known deck pull the the first known list\n",
    "            elif known:\n",
    "                revealed.append(flippedcity)\n",
    "                known[0].pop(known[0].index(flippedcity))\n",
    "                added = 0\n",
    "                if not known[0]: # remove the first list if its empty\n",
    "                    known.pop(0)\n",
    "            trial_df.loc[len(trial_df)] = [roundNum, pandemicNum,  pandemichuh, flippedcity,  added]\n",
    "            trial_df.to_csv(filename, index=False) \n",
    "    roundNum += 1 # there is more than one row per round so increment appropriately\n",
    "        \n",
    "    \n",
    "    "
   ]
  },
  {
   "cell_type": "code",
   "execution_count": 28,
   "metadata": {},
   "outputs": [
    {
     "data": {
      "text/plain": [
       "['Chicago', 'New York', 'London', 'Lagos', 'Sao Paulo', 'New York']"
      ]
     },
     "execution_count": 28,
     "metadata": {},
     "output_type": "execute_result"
    }
   ],
   "source": [
    "revealed"
   ]
  },
  {
   "cell_type": "code",
   "execution_count": 29,
   "metadata": {},
   "outputs": [
    {
     "data": {
      "text/plain": [
       "[['New York',\n",
       "  'Chicago',\n",
       "  'New York',\n",
       "  'Lagos',\n",
       "  'London',\n",
       "  'Sao Paulo',\n",
       "  'Lagos',\n",
       "  'Jacksonville',\n",
       "  'Cairo']]"
      ]
     },
     "execution_count": 29,
     "metadata": {},
     "output_type": "execute_result"
    }
   ],
   "source": [
    "known"
   ]
  },
  {
   "cell_type": "code",
   "execution_count": 30,
   "metadata": {},
   "outputs": [
    {
     "data": {
      "text/plain": [
       "['London',\n",
       " 'Washington',\n",
       " 'Washington',\n",
       " 'Washington',\n",
       " 'Jacksonville',\n",
       " 'Jacksonville',\n",
       " 'Sao Paulo',\n",
       " 'Tripoli',\n",
       " 'Tripoli',\n",
       " 'Tripoli',\n",
       " 'Cairo',\n",
       " 'Cairo',\n",
       " 'Istanbul',\n",
       " 'Istanbul',\n",
       " 'Istanbul',\n",
       " 'Denver',\n",
       " 'Denver',\n",
       " 'San Francisco',\n",
       " 'San Francisco',\n",
       " 'Atlanta']"
      ]
     },
     "execution_count": 30,
     "metadata": {},
     "output_type": "execute_result"
    }
   ],
   "source": [
    "city "
   ]
  },
  {
   "cell_type": "code",
   "execution_count": null,
   "metadata": {},
   "outputs": [],
   "source": []
  },
  {
   "cell_type": "code",
   "execution_count": null,
   "metadata": {},
   "outputs": [],
   "source": []
  },
  {
   "cell_type": "code",
   "execution_count": null,
   "metadata": {},
   "outputs": [],
   "source": [
    "\n"
   ]
  },
  {
   "cell_type": "code",
   "execution_count": null,
   "metadata": {},
   "outputs": [],
   "source": []
  },
  {
   "cell_type": "code",
   "execution_count": null,
   "metadata": {},
   "outputs": [],
   "source": []
  },
  {
   "cell_type": "code",
   "execution_count": null,
   "metadata": {},
   "outputs": [],
   "source": []
  },
  {
   "cell_type": "code",
   "execution_count": 23,
   "metadata": {},
   "outputs": [
    {
     "data": {
      "application/vnd.jupyter.widget-view+json": {
       "model_id": "cd35de9b91f6460aa485b41f7a5e63aa",
       "version_major": 2,
       "version_minor": 0
      },
      "text/plain": [
       "HBox(children=(Button(description='New York', style=ButtonStyle()), Button(description='DC', style=ButtonStyle…"
      ]
     },
     "metadata": {},
     "output_type": "display_data"
    }
   ],
   "source": [
    "\n",
    "cities = ['New York','DC','Sao Paulo', 'New York']\n",
    "\n",
    "\n",
    "switch = [widgets.Button(description=name) for name in cities]\n",
    "\n",
    "combined = widgets.HBox([items for items in switch])\n",
    "out =widgets.Output()\n",
    "\n",
    "def upon_clicked(btn):\n",
    "    #print(f'You Just clicked {btn.description}.', end='\\x1b\\r')\n",
    "    #for n in range(len(cities)):\n",
    "    #    switch[n].style.button_color = 'gray'\n",
    "    btn.style.button_color = 'pink'\n",
    "    return(btn.description)\n",
    "    \n",
    "\n",
    "for n in range(len(cities)):\n",
    "    switch[n].on_click(upon_clicked)\n",
    "\n",
    "display(combined)\n"
   ]
  },
  {
   "cell_type": "code",
   "execution_count": 4,
   "metadata": {},
   "outputs": [
    {
     "name": "stdout",
     "output_type": "stream",
     "text": [
      "Output()\n"
     ]
    }
   ],
   "source": []
  },
  {
   "cell_type": "code",
   "execution_count": null,
   "metadata": {},
   "outputs": [],
   "source": []
  },
  {
   "cell_type": "code",
   "execution_count": null,
   "metadata": {},
   "outputs": [],
   "source": []
  }
 ],
 "metadata": {
  "kernelspec": {
   "display_name": "Python 3",
   "language": "python",
   "name": "python3"
  },
  "language_info": {
   "codemirror_mode": {
    "name": "ipython",
    "version": 3
   },
   "file_extension": ".py",
   "mimetype": "text/x-python",
   "name": "python",
   "nbconvert_exporter": "python",
   "pygments_lexer": "ipython3",
   "version": "3.8.3"
  }
 },
 "nbformat": 4,
 "nbformat_minor": 4
}
