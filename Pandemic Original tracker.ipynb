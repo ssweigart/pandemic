{
 "cells": [
  {
   "cell_type": "markdown",
   "metadata": {},
   "source": [
    "## Load relevant libraries"
   ]
  },
  {
   "cell_type": "code",
   "execution_count": 1,
   "metadata": {},
   "outputs": [],
   "source": [
    "from datetime import date\n",
    "import pandas as pd\n",
    "import csv, os, math\n",
    "from IPython.display import display\n",
    "import ipywidgets as widgets\n"
   ]
  },
  {
   "cell_type": "markdown",
   "metadata": {},
   "source": [
    "## Functions that need to be run"
   ]
  },
  {
   "cell_type": "code",
   "execution_count": 53,
   "metadata": {},
   "outputs": [],
   "source": [
    "## template builder if there it is a new game starting that creates an empty file\n",
    "\n",
    "def build_template(filename):\n",
    "# STRING -> NONE\n",
    "# file name -> outputs a file in the file name\n",
    "    with open(filename, 'w',newline= '') as csvfile:\n",
    "        rwwriter = csv.writer(csvfile, delimiter = ',')\n",
    "        rwwriter.writerow(['Round', 'PandemicNum','Pandemic','City','Added'])\n",
    "    csvfile.close()"
   ]
  },
  {
   "cell_type": "code",
   "execution_count": 29,
   "metadata": {},
   "outputs": [],
   "source": [
    "## updates the lists with the things that have happened from a previous file\n",
    "\n",
    "def catchup(city, trial_df):\n",
    "    # LIST, DF -> LIST, LIST, LIST\n",
    "    # list of cities, trial data frame, -> revealed deck, known deck, remains of starting deck\n",
    "    \n",
    "    # empty decks which will be filled later\n",
    "    revealed = [];\n",
    "    known = [];\n",
    "\n",
    "    for index, row in trial_df.iterrows():\n",
    "        if row.Pandemic == 1: # if its a pandemics add the 'bottom card' and remove the ones from known and put them into the revealed pile\n",
    "            revealed.append(row.City)\n",
    "            city.pop(city.index(row.City))\n",
    "            known.insert(0,revealed)\n",
    "            revealed = [];\n",
    "            \n",
    "        ## if the known deck and reveal deck are empty pull from the cities list and put them in the revealed deck\n",
    "        elif not known:\n",
    "            revealed.append(row.City)\n",
    "            city.pop(city.index(row.City))\n",
    "            \n",
    "        # there are known cards in the known deck pull the the first known list\n",
    "        elif known:\n",
    "            revealed.append(row.City)\n",
    "            known[0].pop(known[0].index(row.City))\n",
    "            if not known[0]: # remove the first list if its empty\n",
    "                known.pop(0)\n",
    "    pandemicNum = trial_df.PandemicNum[len(trial_df)-1]\n",
    "    roundNum = trial_df.Round[len(trial_df)-1]\n",
    "    return(revealed, known, city, pandemicNum,roundNum)\n",
    "    "
   ]
  },
  {
   "cell_type": "code",
   "execution_count": 4,
   "metadata": {},
   "outputs": [],
   "source": [
    "## calcprobs calculates the probability of different cards based on their placement in the deck\n",
    "\n",
    "def calcprobs(known, city, numOfPulls):\n",
    "    # LIST, LIST, INT -> DF\n",
    "    # List of list of known cities, list of all unrevealed cities, number of pulled cards\n",
    "\n",
    "    thecities = [];\n",
    "    probs = [];\n",
    "\n",
    "    ## look through the known lists and calculate the probablity of it occuring within a certain number of turns \n",
    "    for i in range(len(known)):\n",
    "\n",
    "        # loop through the subdeck\n",
    "        for j in range(len(known[i])):\n",
    "            thecities.append(known[i][j]) # add the country name to the list\n",
    "\n",
    "            if len(known[i]) >= numOfPulls: # if there is more countries than pulls left, calculate a percentage\n",
    "                probs.append(round(numOfPulls/len(known[i])*100))\n",
    "            elif len(known[i]) < numOfPulls: # if not just put 100 because it will certainly happen\n",
    "                probs.append(100)  \n",
    "\n",
    "        numOfPulls -= min(numOfPulls,len(known[i])) # subtract the length of the deck or reduce it to zero\n",
    "    for c in range(len(city)):\n",
    "        thecities.append(city[c])# add the country name to the list\n",
    "        if numOfPulls > 0:\n",
    "            probs.append(round(numOfPulls/len(city)*100))\n",
    "        else:\n",
    "            probs.append(0)\n",
    "\n",
    "\n",
    "\n",
    "    percent_df = pd.DataFrame({\"Cities\": thecities, \"Probability\": probs})\n",
    "    return(percent_df)"
   ]
  },
  {
   "cell_type": "code",
   "execution_count": 232,
   "metadata": {},
   "outputs": [],
   "source": [
    "## complete end of games mechanisms\n",
    "#def EndOfGame():\n",
    "    "
   ]
  },
  {
   "cell_type": "markdown",
   "metadata": {},
   "source": [
    "## Start by generating game files "
   ]
  },
  {
   "cell_type": "code",
   "execution_count": 54,
   "metadata": {},
   "outputs": [
    {
     "name": "stdin",
     "output_type": "stream",
     "text": [
      "Are you starting a new game? Yes=1 No=0:   1\n",
      "What number game are you playing today?:   5\n"
     ]
    }
   ],
   "source": [
    "# determine if its a restarted game or starting an original game\n",
    "gamestatus = input('Are you starting a new game? Yes=1 No=0:  ')\n",
    "\n",
    "## where the game_logs are stored\n",
    "logdir = 'game_logs'\n",
    "citydir = 'city_logs'\n",
    "\n",
    "if gamestatus == '0':\n",
    "    ## get relevant file name information\n",
    "    filedate = input('What date was your game? MMDDYY format:  ')\n",
    "    gamenum = input('What number game are you playing today?:  ')\n",
    "    filename = os.path.join(logdir,'POgame_' + filedate + '_' + gamenum + \".csv\")#the saved file name\n",
    "    ####\n",
    "elif gamestatus == '1':\n",
    "    ## find out what month this is and what attempt it is:\n",
    "    gamenum = input('What number game are you playing today?:  ')\n",
    "    ## get the date\n",
    "    today = date.today()\n",
    "    filedate = today.strftime(\"%m%d%y\")\n",
    "    filename = os.path.join(logdir,'POgame_' + filedate + '_' + gamenum + \".csv\")#the saved file name\n",
    "    build_template(filename)\n",
    "else:\n",
    "    print('Oh no! I do not understand that response. Restart please!')\n",
    "# start game file\n",
    "\n"
   ]
  },
  {
   "cell_type": "markdown",
   "metadata": {},
   "source": [
    "\n",
    "## load data files and set up relevant information"
   ]
  },
  {
   "cell_type": "code",
   "execution_count": 55,
   "metadata": {},
   "outputs": [
    {
     "data": {
      "text/html": [
       "<div>\n",
       "<style scoped>\n",
       "    .dataframe tbody tr th:only-of-type {\n",
       "        vertical-align: middle;\n",
       "    }\n",
       "\n",
       "    .dataframe tbody tr th {\n",
       "        vertical-align: top;\n",
       "    }\n",
       "\n",
       "    .dataframe thead th {\n",
       "        text-align: right;\n",
       "    }\n",
       "</style>\n",
       "<table border=\"1\" class=\"dataframe\">\n",
       "  <thead>\n",
       "    <tr style=\"text-align: right;\">\n",
       "      <th></th>\n",
       "      <th>Round</th>\n",
       "      <th>PandemicNum</th>\n",
       "      <th>Pandemic</th>\n",
       "      <th>City</th>\n",
       "      <th>Added</th>\n",
       "    </tr>\n",
       "  </thead>\n",
       "  <tbody>\n",
       "  </tbody>\n",
       "</table>\n",
       "</div>"
      ],
      "text/plain": [
       "Empty DataFrame\n",
       "Columns: [Round, PandemicNum, Pandemic, City, Added]\n",
       "Index: []"
      ]
     },
     "execution_count": 55,
     "metadata": {},
     "output_type": "execute_result"
    }
   ],
   "source": [
    "trial_df = pd.read_csv(filename, delimiter = ',')\n",
    "trial_df"
   ]
  },
  {
   "cell_type": "code",
   "execution_count": 63,
   "metadata": {},
   "outputs": [
    {
     "name": "stdin",
     "output_type": "stream",
     "text": [
      "Game over? Yes[1], No[0]: 0\n"
     ]
    },
    {
     "name": "stdout",
     "output_type": "stream",
     "text": [
      "          Cities  Probability\n",
      "0        Beijing          100\n",
      "1  San Francisco            3\n",
      "2       New York            3\n",
      "3         London            3\n",
      "4          Milan            3\n"
     ]
    },
    {
     "name": "stdin",
     "output_type": "stream",
     "text": [
      "Pandemic? Yes[1], No[0]: 0\n",
      "What city is pulled? 2 left:  Beijing\n",
      "What city is pulled? 1 left:  Milan\n",
      "Game over? Yes[1], No[0]: 0\n"
     ]
    },
    {
     "name": "stdout",
     "output_type": "stream",
     "text": [
      "          Cities  Probability\n",
      "0  San Francisco            6\n",
      "1       New York            6\n",
      "2         London            6\n",
      "3  St Petersburg            6\n",
      "4          Essen            6\n"
     ]
    },
    {
     "name": "stdin",
     "output_type": "stream",
     "text": [
      "Pandemic? Yes[1], No[0]: Essen\n"
     ]
    },
    {
     "ename": "ValueError",
     "evalue": "invalid literal for int() with base 10: 'Essen'",
     "output_type": "error",
     "traceback": [
      "\u001b[0;31m---------------------------------------------------------------------------\u001b[0m",
      "\u001b[0;31mValueError\u001b[0m                                Traceback (most recent call last)",
      "\u001b[0;32m<ipython-input-63-dbe949eedf0a>\u001b[0m in \u001b[0;36m<module>\u001b[0;34m\u001b[0m\n\u001b[1;32m     49\u001b[0m         \u001b[0mprint\u001b[0m\u001b[0;34m(\u001b[0m\u001b[0mcalcprobs\u001b[0m\u001b[0;34m(\u001b[0m\u001b[0mknown\u001b[0m\u001b[0;34m,\u001b[0m \u001b[0mcity\u001b[0m\u001b[0;34m,\u001b[0m \u001b[0mpandemicflip\u001b[0m\u001b[0;34m[\u001b[0m\u001b[0mpandemicNum\u001b[0m\u001b[0;34m]\u001b[0m\u001b[0;34m)\u001b[0m\u001b[0;34m.\u001b[0m\u001b[0mhead\u001b[0m\u001b[0;34m(\u001b[0m\u001b[0;34m)\u001b[0m\u001b[0;34m)\u001b[0m\u001b[0;34m\u001b[0m\u001b[0;34m\u001b[0m\u001b[0m\n\u001b[1;32m     50\u001b[0m         \u001b[0;31m# start by asking if the round is an pandemic\u001b[0m\u001b[0;34m\u001b[0m\u001b[0;34m\u001b[0m\u001b[0;34m\u001b[0m\u001b[0m\n\u001b[0;32m---> 51\u001b[0;31m         \u001b[0mpandemichuh\u001b[0m \u001b[0;34m=\u001b[0m \u001b[0mint\u001b[0m\u001b[0;34m(\u001b[0m\u001b[0minput\u001b[0m\u001b[0;34m(\u001b[0m\u001b[0;34m'Pandemic? Yes[1], No[0]:'\u001b[0m\u001b[0;34m)\u001b[0m\u001b[0;34m)\u001b[0m\u001b[0;34m\u001b[0m\u001b[0;34m\u001b[0m\u001b[0m\n\u001b[0m\u001b[1;32m     52\u001b[0m         \u001b[0;32mwhile\u001b[0m \u001b[0mpandemichuh\u001b[0m\u001b[0;34m:\u001b[0m\u001b[0;34m\u001b[0m\u001b[0;34m\u001b[0m\u001b[0m\n\u001b[1;32m     53\u001b[0m             \u001b[0mflippedcity\u001b[0m \u001b[0;34m=\u001b[0m \u001b[0minput\u001b[0m\u001b[0;34m(\u001b[0m\u001b[0;34m'What is the bottom card?:'\u001b[0m\u001b[0;34m)\u001b[0m \u001b[0;31m# determine the bottom card\u001b[0m\u001b[0;34m\u001b[0m\u001b[0;34m\u001b[0m\u001b[0m\n",
      "\u001b[0;31mValueError\u001b[0m: invalid literal for int() with base 10: 'Essen'"
     ]
    }
   ],
   "source": [
    "## load the trial handler into a pandas structure\n",
    "trial_df = pd.read_csv(filename, delimiter = ',')\n",
    "\n",
    "## gather all the countries to be included \n",
    "cities_df = pd.read_csv(os.path.join(citydir,'OG_cities.csv'))\n",
    "\n",
    "with open(os.path.join(citydir,'OG_cities.csv')) as csvfile:\n",
    "    cities_reader = csv.reader(csvfile, delimiter = '\\t')\n",
    "    cities_x = list(cities_reader)\n",
    "csvfile.close()\n",
    "\n",
    "\n",
    "# start by generating the list of cities\n",
    "city = [x[0] for x in cities_x]\n",
    "startingPullNum = 6\n",
    "\n",
    "# catch up if the game had already started \n",
    "if trial_df.size:\n",
    "    revealed, known, city, pandemicNum ,roundNum = catchup(city, trial_df)\n",
    "else: # assign starting values \n",
    "    revealed = []\n",
    "    known = []\n",
    "    pandemicNum = 0\n",
    "    roundNum = 0\n",
    "    \n",
    "pandemicflip = [2,2,2,3,3,4,4]\n",
    "\n",
    "for x in range(20):\n",
    "    # start with added countries\n",
    "    gameover = int(input('Game over? Yes[1], No[0]:'))\n",
    "    \n",
    "    if gameover:\n",
    "        trial_df.to_csv(filename, index=False) \n",
    "        #EndOfGame\n",
    "        break\n",
    "    if roundNum == 0:\n",
    "        startingPullNum -= trial_df.shape[0]\n",
    "        for x in range(startingPullNum):\n",
    "            print(calcprobs(known, city, startingPullNum))\n",
    "            flippedcity = input('New city ' + str(len(revealed)+ 1) + ': ') # ask what the country is \n",
    "            # update revealed and city lists \n",
    "            revealed.append(flippedcity)\n",
    "            city.pop(city.index(flippedcity))\n",
    "            pandemichuh = 0 # you can't start on a pandemic\n",
    "            added = 1\n",
    "            trial_df.loc[len(trial_df)] = [roundNum, pandemicNum,  pandemichuh, flippedcity,  added]\n",
    "            trial_df.to_csv(filename, index=False) \n",
    "    else: \n",
    "        print(calcprobs(known, city, pandemicflip[pandemicNum]).head())\n",
    "        # start by asking if the round is an pandemic \n",
    "        pandemichuh = int(input('Pandemic? Yes[1], No[0]:'))\n",
    "        while pandemichuh:\n",
    "            flippedcity = input('What is the bottom card?:') # determine the bottom card\n",
    "            # add to the revealed list, remove from the city list, then move the revealed list to the top of the known list\n",
    "            known.insert(0,revealed)\n",
    "            revealed.append(flippedcity) \n",
    "            city.pop(city.index(flippedcity))\n",
    "            \n",
    "            revealed = []\n",
    "            pandemicNum += 1 # increment the number of pandemics\n",
    "            trial_df.loc[len(trial_df)] = [roundNum, pandemicNum,  pandemichuh, flippedcity,  added]\n",
    "            trial_df.to_csv(filename, index=False) \n",
    "            pandemichuh = int(input('Pandemic? Yes[1], No[0]:'))\n",
    "        # as for each card needed to be flipped this turn\n",
    "        for cardsRevealed in range(pandemicflip[pandemicNum]):\n",
    "            flippedcity = input('What city is pulled? '+ str(pandemicflip[pandemicNum]- cardsRevealed) + ' left: ')\n",
    "            if not known:\n",
    "                revealed.append(flippedcity)\n",
    "                city.pop(city.index(flippedcity))\n",
    "                added = 1\n",
    "            \n",
    "            # there are known cards in the known deck pull the the first known list\n",
    "            elif known:\n",
    "                revealed.append(flippedcity)\n",
    "                known[0].pop(known[0].index(flippedcity))\n",
    "                added = 0\n",
    "                if not known[0]: # remove the first list if its empty\n",
    "                    known.pop(0)\n",
    "            trial_df.loc[len(trial_df)] = [roundNum, pandemicNum,  pandemichuh, flippedcity,  added]\n",
    "            trial_df.to_csv(filename, index=False) \n",
    "    roundNum += 1 # there is more than one row per round so increment appropriately"
   ]
  },
  {
   "cell_type": "code",
   "execution_count": 50,
   "metadata": {},
   "outputs": [
    {
     "data": {
      "text/html": [
       "<div>\n",
       "<style scoped>\n",
       "    .dataframe tbody tr th:only-of-type {\n",
       "        vertical-align: middle;\n",
       "    }\n",
       "\n",
       "    .dataframe tbody tr th {\n",
       "        vertical-align: top;\n",
       "    }\n",
       "\n",
       "    .dataframe thead th {\n",
       "        text-align: right;\n",
       "    }\n",
       "</style>\n",
       "<table border=\"1\" class=\"dataframe\">\n",
       "  <thead>\n",
       "    <tr style=\"text-align: right;\">\n",
       "      <th></th>\n",
       "      <th>Round PandemicNum Pandemic City Added</th>\n",
       "    </tr>\n",
       "  </thead>\n",
       "  <tbody>\n",
       "  </tbody>\n",
       "</table>\n",
       "</div>"
      ],
      "text/plain": [
       "Empty DataFrame\n",
       "Columns: [Round PandemicNum Pandemic City Added]\n",
       "Index: []"
      ]
     },
     "execution_count": 50,
     "metadata": {},
     "output_type": "execute_result"
    }
   ],
   "source": [
    "trial_df"
   ]
  },
  {
   "cell_type": "code",
   "execution_count": 26,
   "metadata": {},
   "outputs": [],
   "source": [
    "city = [x[0] for x in cities_x]\n",
    "startingPullNum = 6\n",
    "PullNum = 2\n",
    "\n",
    "revealed = [];\n",
    "known = [];\n",
    "\n",
    "for index, row in trial_df.iterrows():\n",
    "    if row.Pandemic == 1: # if its a pandemics add the 'bottom card' and remove the ones from known and put them into the revealed pile\n",
    "        revealed.append(row.City)\n",
    "        city.pop(city.index(row.City))\n",
    "        known.insert(0,revealed)\n",
    "        revealed = [];\n",
    "\n",
    "    ## if the known deck and reveal deck are empty pull from the cities list and put them in the revealed deck\n",
    "    elif not known:\n",
    "        revealed.append(row.City)\n",
    "        city.pop(city.index(row.City))\n",
    "\n",
    "    # there are known cards in the known deck pull the the first known list\n",
    "    elif known:\n",
    "        revealed.append(row.City)\n",
    "        known[0].pop(known[0].index(row.City))\n",
    "        if not known[0]: # remove the first list if its empty\n",
    "            known.pop(0)\n",
    "pandemicNum = trial_df.PandemicNum[len(trial_df)-1]\n",
    "roundNum = trial_df.Round[len(trial_df)-1]"
   ]
  },
  {
   "cell_type": "code",
   "execution_count": 28,
   "metadata": {},
   "outputs": [
    {
     "data": {
      "text/plain": [
       "0"
      ]
     },
     "execution_count": 28,
     "metadata": {},
     "output_type": "execute_result"
    }
   ],
   "source": [
    "roundNum"
   ]
  },
  {
   "cell_type": "code",
   "execution_count": null,
   "metadata": {},
   "outputs": [],
   "source": []
  },
  {
   "cell_type": "code",
   "execution_count": 66,
   "metadata": {},
   "outputs": [
    {
     "data": {
      "text/plain": [
       "<HTMLDependency \"headcontent_7988ade87db04f26f9046617bf29b9d2a742ac8d-0.0\">"
      ]
     },
     "execution_count": 66,
     "metadata": {},
     "output_type": "execute_result"
    }
   ],
   "source": [
    "from shiny import ui\n",
    "\n",
    "ui.head_content(\n",
    "    ui.tags.meta(name=\"robots\", content=\"noindex\")\n",
    ")\n"
   ]
  },
  {
   "cell_type": "code",
   "execution_count": null,
   "metadata": {},
   "outputs": [],
   "source": []
  },
  {
   "cell_type": "code",
   "execution_count": null,
   "metadata": {},
   "outputs": [],
   "source": []
  },
  {
   "cell_type": "code",
   "execution_count": null,
   "metadata": {},
   "outputs": [],
   "source": [
    "\n"
   ]
  },
  {
   "cell_type": "code",
   "execution_count": null,
   "metadata": {},
   "outputs": [],
   "source": []
  },
  {
   "cell_type": "code",
   "execution_count": null,
   "metadata": {},
   "outputs": [],
   "source": []
  },
  {
   "cell_type": "code",
   "execution_count": null,
   "metadata": {},
   "outputs": [],
   "source": []
  },
  {
   "cell_type": "code",
   "execution_count": 23,
   "metadata": {},
   "outputs": [
    {
     "data": {
      "application/vnd.jupyter.widget-view+json": {
       "model_id": "cd35de9b91f6460aa485b41f7a5e63aa",
       "version_major": 2,
       "version_minor": 0
      },
      "text/plain": [
       "HBox(children=(Button(description='New York', style=ButtonStyle()), Button(description='DC', style=ButtonStyle…"
      ]
     },
     "metadata": {},
     "output_type": "display_data"
    }
   ],
   "source": [
    "\n",
    "cities = ['New York','DC','Sao Paulo', 'New York']\n",
    "\n",
    "\n",
    "switch = [widgets.Button(description=name) for name in cities]\n",
    "\n",
    "combined = widgets.HBox([items for items in switch])\n",
    "out =widgets.Output()\n",
    "\n",
    "def upon_clicked(btn):\n",
    "    #print(f'You Just clicked {btn.description}.', end='\\x1b\\r')\n",
    "    #for n in range(len(cities)):\n",
    "    #    switch[n].style.button_color = 'gray'\n",
    "    btn.style.button_color = 'pink'\n",
    "    return(btn.description)\n",
    "    \n",
    "\n",
    "for n in range(len(cities)):\n",
    "    switch[n].on_click(upon_clicked)\n",
    "\n",
    "display(combined)\n"
   ]
  },
  {
   "cell_type": "code",
   "execution_count": 4,
   "metadata": {},
   "outputs": [
    {
     "name": "stdout",
     "output_type": "stream",
     "text": [
      "Output()\n"
     ]
    }
   ],
   "source": []
  },
  {
   "cell_type": "code",
   "execution_count": null,
   "metadata": {},
   "outputs": [],
   "source": []
  },
  {
   "cell_type": "code",
   "execution_count": null,
   "metadata": {},
   "outputs": [],
   "source": []
  }
 ],
 "metadata": {
  "kernelspec": {
   "display_name": "Python 3",
   "language": "python",
   "name": "python3"
  },
  "language_info": {
   "codemirror_mode": {
    "name": "ipython",
    "version": 3
   },
   "file_extension": ".py",
   "mimetype": "text/x-python",
   "name": "python",
   "nbconvert_exporter": "python",
   "pygments_lexer": "ipython3",
   "version": "3.8.3"
  }
 },
 "nbformat": 4,
 "nbformat_minor": 4
}
